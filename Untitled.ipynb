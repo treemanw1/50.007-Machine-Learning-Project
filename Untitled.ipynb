{
 "cells": [
  {
   "cell_type": "code",
   "execution_count": null,
   "id": "8cadfa0f",
   "metadata": {},
   "outputs": [],
   "source": [
    "import pandas as pd\n"
   ]
  },
  {
   "cell_type": "code",
   "execution_count": null,
   "id": "961b5bf7",
   "metadata": {},
   "outputs": [],
   "source": [
    "from nltk.tokenize import word_tokenize\n",
    "from sklearn import naive_bayes\n",
    "from sklearn import metrics\n",
    "from sklearn import model_selection\n",
    "from sklearn.feature_extraction.text import CountVectorizer \n",
    "from sklearn.feature_extraction.text import TfidfVectorizer\n",
    "from nltk.tokenize import word_tokenize"
   ]
  },
  {
   "cell_type": "code",
   "execution_count": null,
   "id": "606914a4",
   "metadata": {
    "scrolled": true
   },
   "outputs": [],
   "source": [
    "df = pd.read_csv('train.csv')\n",
    "df_test = pd.read_csv('test.csv')\n"
   ]
  },
  {
   "cell_type": "code",
   "execution_count": null,
   "id": "b989910d",
   "metadata": {},
   "outputs": [],
   "source": [
    "from nltk.stem import PorterStemmer\n",
    "\n",
    "ps = PorterStemmer()"
   ]
  },
  {
   "cell_type": "code",
   "execution_count": null,
   "id": "f75119f8",
   "metadata": {},
   "outputs": [],
   "source": [
    "def stem_post(row):\n",
    "    ## Stem all words in the post\n",
    "    words = row.split()  \n",
    "    result = \"\"\n",
    "    for word in words:\n",
    "        result+=ps.stem(word)+' '\n",
    "    return result[:-1]"
   ]
  },
  {
   "cell_type": "code",
   "execution_count": null,
   "id": "21ff160d",
   "metadata": {},
   "outputs": [],
   "source": [
    "## Transform the original tweets to stemmed tweet\n",
    "\n",
    "df_test['stemmed_post'] = df_test['post'].apply(stem_post)"
   ]
  },
  {
   "cell_type": "code",
   "execution_count": null,
   "id": "dd30767d",
   "metadata": {},
   "outputs": [],
   "source": [
    "df['stemmed_post'] = df['post'].apply(stem_post)"
   ]
  },
  {
   "cell_type": "code",
   "execution_count": null,
   "id": "6d2cdf8d",
   "metadata": {},
   "outputs": [],
   "source": [
    "import numpy as np\n",
    "from sklearn.model_selection import StratifiedShuffleSplit\n",
    "from sklearn.model_selection import train_test_split\n",
    "from sklearn.model_selection import cross_val_score\n",
    "from sklearn.tree import DecisionTreeClassifier"
   ]
  },
  {
   "cell_type": "code",
   "execution_count": null,
   "id": "8e5609da",
   "metadata": {},
   "outputs": [],
   "source": [
    "from sklearn.metrics import f1_score"
   ]
  },
  {
   "cell_type": "code",
   "execution_count": null,
   "id": "6fbe2d41",
   "metadata": {},
   "outputs": [],
   "source": [
    "import xgboost as xgb\n",
    "from sklearn.metrics import precision_score\n",
    "from sklearn.metrics import recall_score\n",
    "from sklearn.metrics import log_loss"
   ]
  },
  {
   "cell_type": "code",
   "execution_count": null,
   "id": "243cdd76",
   "metadata": {},
   "outputs": [],
   "source": [
    "## Custom evaluation metric for xgb\n",
    "def f1_eval_mac(predt, d):\n",
    "    y = d.get_label()\n",
    "\n",
    "    predt_binary = (predt>0.5).astype(int)\n",
    "    \n",
    "    return \"F1_score\", f1_score(y_true=y, y_pred=predt_binary,average='macro')"
   ]
  },
  {
   "cell_type": "code",
   "execution_count": null,
   "id": "38b63d95",
   "metadata": {},
   "outputs": [],
   "source": [
    "## train xgb given the train_df,test_df and hyperparameters\n",
    "def xgbtrain(train_df,test_df,param,count_vec):\n",
    "   \n",
    " \n",
    "    xtrain = count_vec.transform(train_df['stemmed_post']) \n",
    "    xtest = count_vec.transform(test_df['stemmed_post'])\n",
    "\n",
    "    dtrain = xgb.DMatrix(xtrain,label=train_df['label'].to_numpy()) \n",
    "    dtest = xgb.DMatrix(xtest,label=test_df['label'].to_numpy())\n",
    "\n",
    "    evallist = [(dtest, 'eval'), (dtrain, 'train')]\n",
    "    param['eval_metric']= ['auc']\n",
    "    num_round = param[\"n_round\"]\n",
    "    bst = xgb.train(param, dtrain, num_round, evallist,custom_metric=f1_eval_mac)\n",
    "    score = f1_score(np.round(bst.predict(dtest)),test_df['label'],average='macro')\n",
    "    return bst,score"
   ]
  },
  {
   "cell_type": "code",
   "execution_count": null,
   "id": "28c489fc",
   "metadata": {},
   "outputs": [],
   "source": [
    "## Create countVectorizer for creating TF features\n",
    "\n",
    "count_vec = CountVectorizer(\n",
    "    tokenizer=word_tokenize,\n",
    "    strip_accents=\"ascii\", lowercase=True,\n",
    "    token_pattern=None,ngram_range=(1,2)) ## Create TF features instead of TF-IDF features with unigrams and bigram\n",
    "count_vec.fit(df.stemmed_post)"
   ]
  },
  {
   "cell_type": "code",
   "execution_count": null,
   "id": "8485c76d",
   "metadata": {},
   "outputs": [],
   "source": [
    "##  K fold cross validation on xgb for hyperparameter tuning\n",
    "def k_fold_xgb(df,param,n_fold=10):\n",
    "    skf = StratifiedKFold(n_splits=n_fold, random_state=1, shuffle=True)\n",
    "    f1_score_list = []\n",
    "    Y = df['label']\n",
    "    i = 0\n",
    "    bst_list = []\n",
    "    for train_index,test_index in skf.split(df,Y):\n",
    "        print(\"Run {}\".format(i))\n",
    "        train_df,test_df = df.loc[train_index],df.loc[test_index]\n",
    "        bst,score = xgbtrain(train_df,test_df,param,count_vec)\n",
    "        bst_list.append(bst)\n",
    "        f1_score_list.append(score)\n",
    "        i+=1\n",
    "    return bst_list,np.average(f1_score_list)"
   ]
  },
  {
   "cell_type": "code",
   "execution_count": null,
   "id": "f7049eb2",
   "metadata": {},
   "outputs": [],
   "source": [
    "## Default parameters\n",
    "param = {'max_depth': 12, 'eta': 0.1, 'objective': 'binary:logistic',\n",
    "        \"subsample\":0.8,\"colsample_bytree\":0.8,'scale_pos_weight':1.62,'alpha':0.2,\n",
    "        \"min_child_weight\":1,\"n_round\":400}"
   ]
  },
  {
   "cell_type": "code",
   "execution_count": null,
   "id": "cf54d936",
   "metadata": {},
   "outputs": [],
   "source": [
    "bst_list,avg_f1_score = k_fold_xgb(df,param,10)"
   ]
  },
  {
   "cell_type": "code",
   "execution_count": null,
   "id": "59dc7baf",
   "metadata": {},
   "outputs": [],
   "source": [
    "xtrain = count_vec.transform(df['stemmed_post'])"
   ]
  },
  {
   "cell_type": "code",
   "execution_count": null,
   "id": "6574e325",
   "metadata": {},
   "outputs": [],
   "source": [
    "dtrain = xgb.DMatrix(xtrain,label=df['label'].to_numpy()) \n",
    "evallist = [(dtrain, 'train')]\n",
    "bst = xgb.train(param, dtrain, num_round, evallist,custom_metric=f1_eval_mac)"
   ]
  },
  {
   "cell_type": "code",
   "execution_count": null,
   "id": "2574974d",
   "metadata": {},
   "outputs": [],
   "source": [
    "## Run xgboost prediction with a trained xgb model and a pd dataframe containing the stemmed post\n",
    "def xgb_predict(df,model,count_vec):\n",
    "    xtrain = count_vec.transform(df['stemmed_post'])\n",
    "    return model.predict(xgb.DMatrix(xtrain))\n",
    "    "
   ]
  },
  {
   "cell_type": "code",
   "execution_count": null,
   "id": "4d4a849e",
   "metadata": {},
   "outputs": [],
   "source": [
    " ## \n",
    "def batch_xgb_predict(bst_list,df):\n",
    "    temp = []\n",
    "    for bst in bst_list:\n",
    "        res = xgb_predict(df_test,bst,count_vec)\n",
    "        temp.append(res)\n",
    "    final = np.average(np.array(temp),axis=0)\n",
    "    return final"
   ]
  },
  {
   "cell_type": "code",
   "execution_count": null,
   "id": "034b45b0",
   "metadata": {},
   "outputs": [],
   "source": [
    "final = batch_xgb_predict(bst_list,df_test)"
   ]
  },
  {
   "cell_type": "code",
   "execution_count": null,
   "id": "f1f62697",
   "metadata": {},
   "outputs": [],
   "source": [
    "## Logistic regression does not need hyper parameter tuning\n",
    "from sklearn.ensemble import BaggingClassifier\n",
    "from sklearn import linear_model\n",
    "from sklearn import metrics\n",
    "from sklearn import model_selection\n",
    "\n",
    "def logistic_regression(train_df):\n",
    "    \"\"\" Train logistic regression model given the stemmed twitter post.\n",
    "        Return: trained model and fitted CountVectorizer \n",
    "    \"\"\"\n",
    "    count_vec = CountVectorizer(\n",
    "    tokenizer=word_tokenize,\n",
    "    strip_accents=\"ascii\", lowercase=True,\n",
    "    token_pattern=None,ngram_range=(1,2))\n",
    "    count_vec.fit(train_df.stemmed_post)\n",
    "    model = BaggingClassifier(base_estimator=linear_model.LogisticRegression(max_iter=200),\n",
    "            n_estimators=10, random_state=0)\n",
    "# fit the model on training data reviews and sentiment\n",
    "    xtrain = count_vec.transform(train_df['stemmed_post'])\n",
    "\n",
    "    model.fit(xtrain, train_df.label)\n",
    "    \n",
    "    return model,count_vec\n",
    "\n",
    "## Naive bayes method \n",
    "def naive_b(train_df):\n",
    "    \n",
    "    \"\"\" Train naive bayes model given the stemmed twitter post.\n",
    "        Return: trained model and fitted CountVectorizer \"\"\"\n",
    "    count_vec = CountVectorizer(\n",
    "    tokenizer=word_tokenize,\n",
    "    strip_accents=\"ascii\", lowercase=True,\n",
    "    token_pattern=None)\n",
    "    count_vec.fit(train_df.stemmed_post)\n",
    "    clf = BaggingClassifier(base_estimator=naive_bayes.MultinomialNB(),\n",
    "            n_estimators=10, random_state=0)\n",
    "    x_train = count_vec.transform(train_df['stemmed_post'])\n",
    "   \n",
    "    clf.fit(x_train,train_df['label'])\n",
    "\n",
    "    return clf,count_vec\n",
    "\n",
    "def model_predict(df,model,count_vec):\n",
    "    ## Predict given a df of stemmed post, model and a CountVectorizer that the model is trained on\n",
    "    xtrain = count_vec.transform(df['stemmed_post'])\n",
    "    return model.predict_proba(xtrain)[:,1]\n",
    "\n",
    "## Average the probability predict for xgboost, logreg and naive bayes\n",
    "\n",
    "def combine_pred(pred_list,test_df):\n",
    "   \n",
    "    return  f1_score(np.round(np.sum(pred_list,axis=0)/3),test_df['label'],average='macro')\n",
    "    \n",
    "    "
   ]
  },
  {
   "cell_type": "code",
   "execution_count": null,
   "id": "1f836161",
   "metadata": {},
   "outputs": [],
   "source": [
    "logreg,logreg_count_vec = logistic_regression(df,test_df)"
   ]
  },
  {
   "cell_type": "code",
   "execution_count": null,
   "id": "546c9341",
   "metadata": {},
   "outputs": [],
   "source": [
    "naive,naive_count_vec = naive_b(df,test_df)"
   ]
  },
  {
   "cell_type": "code",
   "execution_count": null,
   "id": "28ff5d70",
   "metadata": {},
   "outputs": [],
   "source": [
    "pred1 = model_predict(df_test,logreg,logreg_count_vec)"
   ]
  },
  {
   "cell_type": "code",
   "execution_count": null,
   "id": "f2e43bd4",
   "metadata": {},
   "outputs": [],
   "source": [
    "pred2 = model_predict(df_test,naive,naive_count_vec)"
   ]
  },
  {
   "cell_type": "code",
   "execution_count": null,
   "id": "0361eb85",
   "metadata": {},
   "outputs": [],
   "source": [
    "pred3 = batch_xgb_predict(bst_list,df_test)"
   ]
  },
  {
   "cell_type": "code",
   "execution_count": null,
   "id": "91886e21",
   "metadata": {},
   "outputs": [],
   "source": [
    "pred_list = np.array([pred1,pred2,pred3])"
   ]
  },
  {
   "cell_type": "code",
   "execution_count": null,
   "id": "433666a3",
   "metadata": {},
   "outputs": [],
   "source": [
    "final = np.round(final)"
   ]
  },
  {
   "cell_type": "code",
   "execution_count": null,
   "id": "f92b2ae1",
   "metadata": {},
   "outputs": [],
   "source": [
    "final = np.round(np.average(pred_list,axis=0))"
   ]
  },
  {
   "cell_type": "code",
   "execution_count": null,
   "id": "c3c0d94f",
   "metadata": {},
   "outputs": [],
   "source": [
    "final = np.round(pred3)"
   ]
  },
  {
   "cell_type": "code",
   "execution_count": null,
   "id": "c7382499",
   "metadata": {},
   "outputs": [],
   "source": [
    "final"
   ]
  },
  {
   "cell_type": "code",
   "execution_count": null,
   "id": "7a1193ea",
   "metadata": {},
   "outputs": [],
   "source": [
    "df_test['label'] = final.astype(int)\n",
    "df_final = df_test.drop([\"post\",\"stemmed_post\"],axis=1)\n",
    "df_final = df_final.set_index('id')"
   ]
  },
  {
   "cell_type": "code",
   "execution_count": null,
   "id": "d24df8e0",
   "metadata": {},
   "outputs": [],
   "source": [
    "df_final.to_csv(\"test_submit.csv\")"
   ]
  },
  {
   "cell_type": "code",
   "execution_count": null,
   "id": "98e451d6",
   "metadata": {},
   "outputs": [],
   "source": [
    "pred_list = np.array([pred3,pred2,pred1])"
   ]
  },
  {
   "cell_type": "code",
   "execution_count": null,
   "id": "0782d81b",
   "metadata": {},
   "outputs": [],
   "source": [
    "f1_score(np.round(pred),test_df['label'],average='macro')"
   ]
  },
  {
   "cell_type": "code",
   "execution_count": null,
   "id": "ad6a4e19",
   "metadata": {},
   "outputs": [],
   "source": [
    "f1_score(np.round(pred2[:,1]),test_df['label'],average='macro')"
   ]
  },
  {
   "cell_type": "code",
   "execution_count": null,
   "id": "27299722",
   "metadata": {},
   "outputs": [],
   "source": [
    "f1_score(np.round(pred3[:,1]),test_df['label'],average='macro')"
   ]
  },
  {
   "cell_type": "code",
   "execution_count": null,
   "id": "1f697a37",
   "metadata": {},
   "outputs": [],
   "source": [
    "pred1 = logistic_regression(df,test_df)"
   ]
  },
  {
   "cell_type": "code",
   "execution_count": null,
   "id": "03468229",
   "metadata": {},
   "outputs": [],
   "source": [
    "naive_b(df,test_df)"
   ]
  },
  {
   "cell_type": "markdown",
   "id": "3c9ca032",
   "metadata": {},
   "source": [
    "# Using wandb for hyperparameter tuning"
   ]
  },
  {
   "cell_type": "code",
   "execution_count": null,
   "id": "007f1791",
   "metadata": {},
   "outputs": [],
   "source": [
    "import wandb\n",
    "wandb.login()"
   ]
  },
  {
   "cell_type": "code",
   "execution_count": null,
   "id": "4897d9b0",
   "metadata": {},
   "outputs": [],
   "source": [
    "sweep_config = {\n",
    "    \"method\": \"grid\", # try grid or random\n",
    "    \"metric\": {\n",
    "      \"name\": \"accuracy\",\n",
    "      \"goal\": \"maximize\"   \n",
    "    },\n",
    "    \"parameters\": {\n",
    "        \"max_depth\": {\n",
    "            \"values\": [12,15]\n",
    "        },\n",
    "        \"learning_rate\": {\n",
    "            \"values\": [0.1]\n",
    "        },\n",
    "        \"subsample\": {\n",
    "            \"values\": [0.8]\n",
    "        },\n",
    "        \"colsample_bytree\": {\n",
    "            \"values\": [0.8]\n",
    "        },\n",
    "        \"alpha\": {\n",
    "            \"values\": [1, 0.5, 0.1,0]\n",
    "        },\n",
    "        \"gamma\": {\n",
    "            \"values\": [1, 0.1,0.3,0]\n",
    "        },\n",
    "        \"n_estimators\": {\n",
    "            \"values\": [400]\n",
    "        },\n",
    "        \"lambd\": {\n",
    "            \"values\": [0,0.1,0.05,1]\n",
    "        }\n",
    "        \n",
    "    }\n",
    "}"
   ]
  },
  {
   "cell_type": "code",
   "execution_count": null,
   "id": "fa4740cb",
   "metadata": {},
   "outputs": [],
   "source": [
    "sweep_id = wandb.sweep(sweep_config, project=\"XGBoost-sweeps11\")"
   ]
  },
  {
   "cell_type": "code",
   "execution_count": null,
   "id": "c6b8a4da",
   "metadata": {},
   "outputs": [],
   "source": [
    "def train():\n",
    "    config_defaults = {\n",
    "    \"booster\": \"gbtree\",\n",
    "    \"max_depth\": 3,\n",
    "    \"learning_rate\": 0.1,\n",
    "    \"subsample\": 1,\n",
    "    \"seed\": 117,\n",
    "    \"test_size\": 0.33,\n",
    "      }\n",
    "\n",
    "    wandb.init(config=config_defaults)  # defaults are over-ridden during the sweep\n",
    "    config = wandb.config\n",
    "\n",
    "  # load data and split into predictors and targets\n",
    "    param = {\"max_depth\":config.max_depth,\"eta\":config.learning_rate,\n",
    "             'objective': 'binary:logistic',\n",
    "            \"subsample\":config.subsample,\"colsample_bytree\":config.colsample_bytree,\n",
    "             \"alpha\":config.alpha,\"gamma\":config.gamma,'scale_pos_weight':1.62,\"n_round\":config.n_estimators,\"lambda\":config.lambd\n",
    "            }\n",
    "    \n",
    "    bst_list,avg_f1_score = k_fold_xgb(df,param,10)\n",
    "   \n",
    "   \n",
    "    print(f\"f1_score: {int(avg_f1_score * 100.)}%\")\n",
    "    wandb.log({\"f1_score\": avg_f1_score})\n",
    "    "
   ]
  },
  {
   "cell_type": "code",
   "execution_count": null,
   "id": "ad461328",
   "metadata": {},
   "outputs": [],
   "source": [
    "wandb.agent(sweep_id, train, count=150)"
   ]
  },
  {
   "cell_type": "code",
   "execution_count": null,
   "id": "5191ee2c",
   "metadata": {},
   "outputs": [],
   "source": [
    "wandb.finish()"
   ]
  },
  {
   "cell_type": "code",
   "execution_count": null,
   "id": "f3438cd0",
   "metadata": {},
   "outputs": [],
   "source": [
    "## Best parameters found using grid search\n",
    "param = {'max_depth': 12, 'eta': 0.1, 'objective': 'binary:logistic',\n",
    "        \"subsample\":0.8,\"colsample_bytree\":0.8,'scale_pos_weight':1.62,'alpha':0.1,\"gamma\":0.3,\"lambda\":1,\n",
    "        \"min_child_weight\":1,\"n_round\":400}"
   ]
  },
  {
   "cell_type": "code",
   "execution_count": null,
   "id": "ad22fac1",
   "metadata": {},
   "outputs": [],
   "source": [
    "bst_list,avg_f1_score = k_fold_xgb(df,param,10)"
   ]
  },
  {
   "cell_type": "code",
   "execution_count": null,
   "id": "0ae5c32c",
   "metadata": {},
   "outputs": [],
   "source": [
    "avg_f1_score"
   ]
  },
  {
   "cell_type": "code",
   "execution_count": null,
   "id": "c55b923e",
   "metadata": {},
   "outputs": [],
   "source": [
    "## Best parameters found using grid search\n",
    "param = {'max_depth': 12, 'eta': 0.1, 'objective': 'binary:logistic',\n",
    "        \"subsample\":0.8,\"colsample_bytree\":0.8,'scale_pos_weight':1.62,'alpha':0.1,\"gamma\":0.3,\"lambda\":1,\n",
    "        \"min_child_weight\":1,\"n_round\":450}"
   ]
  },
  {
   "cell_type": "code",
   "execution_count": null,
   "id": "ed580a50",
   "metadata": {},
   "outputs": [],
   "source": [
    "bst_list,avg_f1_score = k_fold_xgb(df,param,10)"
   ]
  }
 ],
 "metadata": {
  "kernelspec": {
   "display_name": "Python 3 (ipykernel)",
   "language": "python",
   "name": "python3"
  },
  "language_info": {
   "codemirror_mode": {
    "name": "ipython",
    "version": 3
   },
   "file_extension": ".py",
   "mimetype": "text/x-python",
   "name": "python",
   "nbconvert_exporter": "python",
   "pygments_lexer": "ipython3",
   "version": "3.8.12"
  }
 },
 "nbformat": 4,
 "nbformat_minor": 5
}
